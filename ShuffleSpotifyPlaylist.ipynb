{
 "cells": [
  {
   "cell_type": "markdown",
   "id": "27c6c446-1584-4cca-8469-8a1b17ba5d4c",
   "metadata": {},
   "source": [
    "# Fetch a Playlist from Spotify and create a shuffled copy\n",
    "Prerequisites:\n",
    "``` \n",
    "pip install pyyaml\n",
    "pip install spotipy\n",
    "```\n",
    "\n",
    "Register new app on https://developer.spotify.com/dashboard\n",
    "\n",
    "Make sure the redirect_uri in the spotify app config is set to the same value as in config.yaml.\n",
    "\n",
    "Copy client_id and client_secret to config.yaml file."
   ]
  },
  {
   "cell_type": "code",
   "execution_count": null,
   "id": "c7a21bd8-db73-4245-826f-3b3a008bd351",
   "metadata": {},
   "outputs": [],
   "source": [
    "import spotipy\n",
    "import yaml\n",
    "from spotipy.oauth2 import SpotifyOAuth\n",
    "from datetime import datetime\n",
    "import random"
   ]
  },
  {
   "cell_type": "markdown",
   "id": "3dde5f7c-2f47-43a1-adc6-bb3a2d1aabfe",
   "metadata": {},
   "source": [
    "Define the name of the an existing user playlist we want to clone:"
   ]
  },
  {
   "cell_type": "code",
   "execution_count": null,
   "id": "42fa04eb-58b0-435c-b02c-8a88819ab30a",
   "metadata": {},
   "outputs": [],
   "source": [
    "playlist_name = \"mp BBQ\""
   ]
  },
  {
   "cell_type": "markdown",
   "id": "4da4be1a-8b77-48cd-8afc-1a0693e07ae7",
   "metadata": {},
   "source": [
    "## Load config.yaml and authenticate"
   ]
  },
  {
   "cell_type": "code",
   "execution_count": null,
   "id": "3a9730d4-e31b-43fc-ad24-a36567d85221",
   "metadata": {},
   "outputs": [],
   "source": [
    "with open(\"config.yaml\", \"r\") as ymlfile:\n",
    "    config = yaml.load(ymlfile, Loader=yaml.FullLoader)\n",
    "    \n",
    "sp = spotipy.Spotify(auth_manager=SpotifyOAuth(client_id=config[\"client_id\"],\n",
    "                                               client_secret=config[\"client_secret\"],\n",
    "                                               redirect_uri=config[\"redirect_uri\"],\n",
    "                                               scope=[\"user-library-read\",\n",
    "                                                      \"playlist-read-private\",\n",
    "                                                      \"playlist-read-collaborative\",\n",
    "                                                      \"playlist-modify-public\",\n",
    "                                                     \"playlist-modify-private\"]))"
   ]
  },
  {
   "cell_type": "markdown",
   "id": "13559cdd-ac49-41b5-be22-61f0251ba748",
   "metadata": {},
   "source": [
    "## Fetch playlist"
   ]
  },
  {
   "cell_type": "code",
   "execution_count": null,
   "id": "07440577-c914-4501-9876-b6b9d18608f6",
   "metadata": {},
   "outputs": [],
   "source": [
    "playlists = sp.current_user_playlists()\n",
    "playlist = None\n",
    "for item in playlists[\"items\"]:\n",
    "    if playlist_name == item[\"name\"]:\n",
    "        playlist = item\n",
    "        break\n",
    "        \n",
    "if playlist is not None:\n",
    "    print(f'Found playlist: {item[\"id\"]} {item[\"name\"]}');\n",
    "else:\n",
    "    print(f'Playlist {playlist_name} not found in {[item[\"name\"] for item in playlists[\"items\"]]}')"
   ]
  },
  {
   "cell_type": "markdown",
   "id": "de636b1c-a320-4f86-93a6-0f34da4fed70",
   "metadata": {},
   "source": [
    "## Get trackIds from playlist and shuffle"
   ]
  },
  {
   "cell_type": "code",
   "execution_count": null,
   "id": "c94127ac-1e52-42af-99ef-8f745d1f93b9",
   "metadata": {},
   "outputs": [],
   "source": [
    "track_ids = [entry[\"track\"][\"id\"] for entry in sp.playlist_items(playlist[\"id\"], fields=\"items(track(id))\")[\"items\"]]\n",
    "# inline shuffle\n",
    "random.shuffle(track_ids)"
   ]
  },
  {
   "cell_type": "markdown",
   "id": "e75fbf3b-d9c2-4f7d-9b20-4569278e23b1",
   "metadata": {},
   "source": [
    "## Create new playlist"
   ]
  },
  {
   "cell_type": "code",
   "execution_count": null,
   "id": "08ff0b3f-da19-4409-ae18-a427e3bb5155",
   "metadata": {},
   "outputs": [],
   "source": [
    "datetime_str = datetime.today().strftime('%Y-%m-%d %H:%M:%S')\n",
    "suffix = f\"_shuffled_{datetime_str}\"\n",
    "shuffled_playlist = sp.user_playlist_create(sp.current_user()[\"id\"], f'{playlist[\"name\"]}{suffix}', public=False, collaborative=False, description=f'Shuffled Version of {playlist[\"name\"]}, created {datetime_str}')"
   ]
  },
  {
   "cell_type": "markdown",
   "id": "bceddd7f-bf72-4032-885e-8b814debe4de",
   "metadata": {},
   "source": [
    "# Add shuffled tracks to new playlist"
   ]
  },
  {
   "cell_type": "code",
   "execution_count": null,
   "id": "27dacac2-ba3b-405c-805b-d800053275aa",
   "metadata": {},
   "outputs": [],
   "source": [
    "sp.user_playlist_add_tracks(sp.current_user()[\"id\"], shuffled_playlist[\"id\"], track_ids)"
   ]
  },
  {
   "cell_type": "code",
   "execution_count": null,
   "id": "982abc2b-c3a6-4ecd-96f2-c39e356b8158",
   "metadata": {},
   "outputs": [],
   "source": []
  }
 ],
 "metadata": {
  "kernelspec": {
   "display_name": "Python 3 (ipykernel)",
   "language": "python",
   "name": "python3"
  },
  "language_info": {
   "codemirror_mode": {
    "name": "ipython",
    "version": 3
   },
   "file_extension": ".py",
   "mimetype": "text/x-python",
   "name": "python",
   "nbconvert_exporter": "python",
   "pygments_lexer": "ipython3",
   "version": "3.9.12"
  }
 },
 "nbformat": 4,
 "nbformat_minor": 5
}
